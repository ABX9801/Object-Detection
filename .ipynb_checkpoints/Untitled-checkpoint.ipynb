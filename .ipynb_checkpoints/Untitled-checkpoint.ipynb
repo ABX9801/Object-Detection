{
 "cells": [
  {
   "cell_type": "markdown",
   "metadata": {},
   "source": [
    "# Object Detection\n",
    "\n",
    "- I recorded a video while playing GTA5 and tried to implement object detection on the video using YOLO-V2.\n",
    "\n",
    "\n",
    "\n",
    "\n",
    "![Object Detection Demo](dataset/gta52.gif)\n",
    "<center>The raw video file recorded from gta5</center>\n",
    "\n",
    "\n",
    "\n",
    "\n",
    "**Requirements :**\n",
    "- python 3.7\n",
    "- tensorflow \n",
    "- opencv\n",
    "- numpy\n",
    "\n",
    "**Download the darkflow Repo from [here](https://github.com/thtrieu/darkflow)**\n",
    "- the code written  in the darkflow repo is in tensorflow version1.\n",
    "- we can also migrate our tensorflow1 code to tensorflow2 using:\n",
    "```python\n",
    "import tensorflow.compat.v1 as tf\n",
    "tf.disable_v2_behavior()\n",
    "```\n",
    "\n",
    "\n",
    "**Build the Library**\n",
    "- open an cmd window and type:\n",
    "  - python setup.py build_ext --inplace\n",
    "  or\n",
    "  - pip install -e \n",
    "\n",
    "**Download weights file from [here](https://pjreddie.com/darknet/yolov2/)**\n",
    "\n",
    "\n",
    "**Demo conversion**\n",
    "- move the video file into the darkflow-master\n",
    "- from there, open a cmd window\n",
    "- use the command: \n",
    "    - python flow --model cfg/yolo.cfg --load bin/yolov2.weights --demo videofile.mp4 --gpu 1.0 --saveVideo\n",
    "\n",
    "- videofile.mp4 is the name of your video.\n",
    "- NOTE: if you do not have the GPU version of tensorflow, leave off the --gpu 1.0\n",
    "- --saveVideo indicates to save a name video file, which has the boxes around objects\n",
    "\n",
    "**I suggest the conversion via python using opencv**\n",
    "- the code is written in main.py.\n",
    "- if using cpu version we can remove 'gpu': 1.0 from options\n",
    "\n",
    "![Object Detection Demo](output/output1.gif)\n",
    "<center>The processed video file</center>"
   ]
  },
  {
   "cell_type": "markdown",
   "metadata": {},
   "source": [
    "![Object Detection Demo](dataset/gta52.gif)\n",
    "![Object Detection Demo](output/output1.gif)"
   ]
  },
  {
   "cell_type": "markdown",
   "metadata": {},
   "source": []
  },
  {
   "cell_type": "code",
   "execution_count": null,
   "metadata": {},
   "outputs": [],
   "source": []
  }
 ],
 "metadata": {
  "kernelspec": {
   "display_name": "Python 3",
   "language": "python",
   "name": "python3"
  },
  "language_info": {
   "codemirror_mode": {
    "name": "ipython",
    "version": 3
   },
   "file_extension": ".py",
   "mimetype": "text/x-python",
   "name": "python",
   "nbconvert_exporter": "python",
   "pygments_lexer": "ipython3",
   "version": "3.7.3"
  }
 },
 "nbformat": 4,
 "nbformat_minor": 4
}
